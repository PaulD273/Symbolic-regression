{
 "cells": [
  {
   "cell_type": "code",
   "execution_count": 1,
   "id": "a0e891f5-c30f-4ef6-9779-1be801e4d387",
   "metadata": {},
   "outputs": [
    {
     "name": "stdout",
     "output_type": "stream",
     "text": [
      "Detected IPython. Loading juliacall extension. See https://juliapy.github.io/PythonCall.jl/stable/compat/#IPython\n"
     ]
    }
   ],
   "source": [
    "import numpy as np\n",
    "import pandas as pd\n",
    "import matplotlib.pyplot as plt\n",
    "from sissopp.sklearn import SISSORegressor\n",
    "from sissopp.py_interface import read_csv\n",
    "from sympy import symbols, simplify, expand, sin\n",
    "from pysr import PySRRegressor\n",
    "from scipy.special import jn,j0, factorial\n",
    "import os\n",
    "import json"
   ]
  },
  {
   "cell_type": "code",
   "execution_count": null,
   "id": "bc25ccf6-e405-456a-90eb-e1498c409f8b",
   "metadata": {},
   "outputs": [],
   "source": [
    "# Dataset\n",
    "np.random.seed(0)\n",
    "# Small values of x\n",
    "x = np.linspace(-1, 1, 500)\n",
    "#noise = 0.001 * np.random.randn(len(x))\n",
    "y = jn(0,x)"
   ]
  }
 ],
 "metadata": {
  "kernelspec": {
   "display_name": "Python 3 (ipykernel)",
   "language": "python",
   "name": "python3"
  },
  "language_info": {
   "codemirror_mode": {
    "name": "ipython",
    "version": 3
   },
   "file_extension": ".py",
   "mimetype": "text/x-python",
   "name": "python",
   "nbconvert_exporter": "python",
   "pygments_lexer": "ipython3",
   "version": "3.9.23"
  }
 },
 "nbformat": 4,
 "nbformat_minor": 5
}
