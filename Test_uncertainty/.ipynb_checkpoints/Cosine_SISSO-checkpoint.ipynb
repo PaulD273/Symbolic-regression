{
 "cells": [
  {
   "cell_type": "code",
   "execution_count": null,
   "id": "3a7cc8c4-32e4-4f25-941d-a3fe7a830f34",
   "metadata": {},
   "outputs": [],
   "source": [
    "#import sissopp\n",
    "from sissopp.py_interface import get_fs_solver\n",
    "import json\n",
    "import os\n",
    "from sympy import symbols, simplify, sin, expand\n",
    "from pysr import PySRRegressor\n",
    "import pandas as pd\n",
    "import numpy as np\n",
    "import matplotlib.pyplot as plt\n",
    "import sympy as sp"
   ]
  },
  {
   "cell_type": "code",
   "execution_count": null,
   "id": "3512bb58-b4c0-4cf3-b09a-9222cfd83f25",
   "metadata": {},
   "outputs": [],
   "source": [
    "x = np.linspace(-2, 2, 500)\n",
    "RANDOM_SEED = 42\n",
    "rng = np.random.default_rng(RANDOM_SEED)\n",
    "noise = rng.normal(size=x.shape)\n",
    "y = np.cos(x) + noise "
   ]
  },
  {
   "cell_type": "code",
   "execution_count": null,
   "id": "cdf03843-0211-4812-aa38-07e90bd69d26",
   "metadata": {},
   "outputs": [],
   "source": [
    "plt.plot(x, np.cos(x), label='cos(x)', color='blue')\n",
    "plt.scatter(x, y, s=5, alpha=0.6, label='Noisy cos(x)', color='orange')\n",
    "plt.legend()\n",
    "plt.title('Cosine with Noise')\n",
    "plt.xlabel('x')\n",
    "plt.ylabel('y')\n",
    "plt.grid(True)\n",
    "plt.show()"
   ]
  },
  {
   "cell_type": "code",
   "execution_count": null,
   "id": "04979623-4f5c-43f2-824f-6f6dd52c01a7",
   "metadata": {},
   "outputs": [],
   "source": [
    "# Save to CSV in a format SISSO++ expects\n",
    "df = pd.DataFrame({\"sample_id\": [f\"s{i+1}\" for i in range(len(x))], 'f1': x, 'target': y})\n",
    "df.to_csv(\"/home/paolo/Thesis/Test_SISSO/data/cosine_data.csv\", index=False)\n",
    "data_file = \"/home/paolo/Thesis/Test_SISSO/data/cosine_data.csv\"\n",
    "\n",
    "os.environ[\"SISSOPP_TUT_DAT_FILE\"] = data_file"
   ]
  },
  {
   "cell_type": "code",
   "execution_count": null,
   "id": "17d6149e-7d80-44da-bcf4-0389431bd8cd",
   "metadata": {},
   "outputs": [],
   "source": [
    "# Try the fit with the exact functional form\n",
    "cos_json = {\n",
    "    'data_file': data_file,\n",
    "     'property_key': 'target',\n",
    "     'desc_dim': 1,\n",
    "     'n_sis_select': 10,\n",
    "     'max_rung': 2,\n",
    "     'calc_type': 'regression',\n",
    "     'min_abs_feat_val': 1e-05,\n",
    "     'max_abs_feat_val': 1e8,\n",
    "     'n_residual': 10,\n",
    "     'n_models_store': 10,\n",
    "     'leave_out_frac': 0.0,\n",
    "     'leave_out_inds': [],\n",
    "     'opset': ['add', 'sub', 'mult', 'div', 'cos', 'sin', 'sqrt', 'sq']\n",
    "}\n",
    "json.dump(cos_json, open(\"/home/paolo/Thesis/Test_uncertainty/data/cos.json\", \"w\"), indent=4)"
   ]
  },
  {
   "cell_type": "code",
   "execution_count": null,
   "id": "727c62ad-782a-4411-8e99-60fc3b8ca8a2",
   "metadata": {},
   "outputs": [],
   "source": [
    "# # Try the fit with the exact functional form\n",
    "# cos_json = {\n",
    "#     'data_file': data_file,\n",
    "#      'property_key': 'target',\n",
    "#      'desc_dim': 1,\n",
    "#      'n_sis_select': 10,\n",
    "#      'max_rung': 2,\n",
    "#      'calc_type': 'regression',\n",
    "#      'min_abs_feat_val': 1e-05,\n",
    "#      'max_abs_feat_val': 1e8,\n",
    "#      'n_residual': 10,\n",
    "#      'n_models_store': 10,\n",
    "#      'leave_out_frac': 0.0,\n",
    "#      'leave_out_inds': [],\n",
    "#      'opset': ['add', 'sub', 'mult', 'div', 'cos', 'sin', 'sqrt', 'sq']\n",
    "# }\n",
    "# json.dump(cos_json, open(\"/home/paolo/Thesis/Test_uncertainty/data/cos.json\", \"w\"), indent=4)"
   ]
  },
  {
   "cell_type": "code",
   "execution_count": null,
   "id": "4447c628-3b04-474d-95c7-d62f5c0e6a07",
   "metadata": {},
   "outputs": [],
   "source": [
    "formulas = []\n",
    "a0_list = []\n",
    "c0_list = []\n",
    "for i in range(10):\n",
    "    filename = f'./models_cosine/train_dim_1_model_{i}.dat'\n",
    "    with open(filename, 'r') as f:\n",
    "        line1 = next(f)               # First line\n",
    "        for _ in range(4): next(f)    # Skip lines 2 to 5\n",
    "        line6 = next(f)               # Sixth line\n",
    "        formula = line1.replace('#', '').strip()\n",
    "        # Split line6 by spaces\n",
    "        parts = line6.strip().split()\n",
    "        a0_i = parts[3].rstrip(',')\n",
    "        c0_i = parts[4].rstrip(',')\n",
    "\n",
    "        formulas.append(formula)\n",
    "        a0_list.append(a0_i)\n",
    "        c0_list.append(c0_i)\n",
    "        print(formula, a0_i, c0_i)"
   ]
  },
  {
   "cell_type": "code",
   "execution_count": null,
   "id": "73d2d141-719f-4d6a-b86f-c3660d14dd07",
   "metadata": {},
   "outputs": [],
   "source": [
    "a0 = np.array(a0_list, dtype=float)\n",
    "c0 = np.array(c0_list, dtype=float)\n",
    "a0, c0"
   ]
  },
  {
   "cell_type": "code",
   "execution_count": null,
   "id": "57d7e75e-7e07-4528-9b61-f8aa2e656a06",
   "metadata": {},
   "outputs": [],
   "source": [
    "x = sp.symbols('f1')\n",
    "symbol_map = {'x': x}\n",
    "\n",
    "# Converts the equtions (stored into the 'Feature Expression' column of df) from strings into sympy objects\n",
    "sympy_exprs = [sp.sympify(f, locals=symbol_map) for f in formulas]\n",
    "# Builds Python functions starting from the sympy expressions\n",
    "functions = [sp.lambdify((x), expr, modules='numpy') for expr in sympy_exprs]"
   ]
  },
  {
   "cell_type": "code",
   "execution_count": null,
   "id": "946e85c0-f549-4e39-832b-0aa6eae749e0",
   "metadata": {},
   "outputs": [],
   "source": [
    "sympy_exprs"
   ]
  },
  {
   "cell_type": "code",
   "execution_count": null,
   "id": "73d39763-dfd7-4d89-8a96-f956c93f0f46",
   "metadata": {},
   "outputs": [],
   "source": [
    "Phi = np.column_stack([f(x) for f in functions])\n",
    "\n",
    "n_features = Phi.shape[1]"
   ]
  },
  {
   "cell_type": "code",
   "execution_count": null,
   "id": "1b547c8d-2263-4829-b23e-2ee574a70033",
   "metadata": {},
   "outputs": [],
   "source": [
    "# basic_model = pm.Model()\n",
    "\n",
    "# with basic_model:\n",
    "#     # Priors for unknown model parameters\n",
    "#     # Normal weights\n",
    "#     w = pm.Normal(\"w\", mu=0, sigma=10, shape=n_features)\n",
    "#     # Sigma is positively define and normally distributed --> HalfNormal\n",
    "#     sigma = pm.HalfNormal(\"sigma\", sigma=1)\n",
    "\n",
    "#     # Expected value of outcome, Linear model\n",
    "#     mu = pm.math.dot(Phi, w)\n",
    "\n",
    "#     # Likelihood (sampling distribution) of observations --> normal distribution with the deterministic equation as mean and sigma as variance\n",
    "#     y_obs = pm.Normal(\"y_obs\", mu=mu, sigma=sigma, observed=y)"
   ]
  }
 ],
 "metadata": {
  "kernelspec": {
   "display_name": "Python 3 (ipykernel)",
   "language": "python",
   "name": "python3"
  },
  "language_info": {
   "codemirror_mode": {
    "name": "ipython",
    "version": 3
   },
   "file_extension": ".py",
   "mimetype": "text/x-python",
   "name": "python",
   "nbconvert_exporter": "python",
   "pygments_lexer": "ipython3",
   "version": "3.12.11"
  }
 },
 "nbformat": 4,
 "nbformat_minor": 5
}
