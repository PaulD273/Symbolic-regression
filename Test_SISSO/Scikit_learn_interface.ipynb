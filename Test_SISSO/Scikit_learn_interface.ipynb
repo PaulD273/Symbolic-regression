{
 "cells": [
  {
   "cell_type": "code",
   "execution_count": 14,
   "id": "801a9d40-b6c9-47e3-b3d2-dfc9703907bb",
   "metadata": {},
   "outputs": [],
   "source": [
    "import numpy as np\n",
    "import pandas as pd\n",
    "from sissopp.sklearn import SISSORegressor\n",
    "from sissopp.py_interface import read_csv\n",
    "from sympy import symbols, simplify, expand"
   ]
  },
  {
   "cell_type": "code",
   "execution_count": 2,
   "id": "6a56ddda-5308-44fe-82e0-2d26d7303479",
   "metadata": {},
   "outputs": [],
   "source": [
    "df = pd.read_csv(\"/home/paolo/Thesis/Test_SISSO/data/cosine_data.csv\", index_col=0)\n",
    "sisso = SISSORegressor(\n",
    "    prop_label = \"target\",\n",
    "    allowed_ops = [\"add\", \"mult\", \"sub\", \"div\", \"sq\", \"six_pow\"],\n",
    "    n_dim = 1,\n",
    "    max_rung = 3,\n",
    "    n_sis_select = 10,\n",
    "    n_residual = 10,\n",
    ")"
   ]
  },
  {
   "cell_type": "code",
   "execution_count": 3,
   "id": "b345fe5b-28e3-47b5-86aa-31248cf894bb",
   "metadata": {},
   "outputs": [
    {
     "data": {
      "text/html": [
       "<div>\n",
       "<style scoped>\n",
       "    .dataframe tbody tr th:only-of-type {\n",
       "        vertical-align: middle;\n",
       "    }\n",
       "\n",
       "    .dataframe tbody tr th {\n",
       "        vertical-align: top;\n",
       "    }\n",
       "\n",
       "    .dataframe thead th {\n",
       "        text-align: right;\n",
       "    }\n",
       "</style>\n",
       "<table border=\"1\" class=\"dataframe\">\n",
       "  <thead>\n",
       "    <tr style=\"text-align: right;\">\n",
       "      <th></th>\n",
       "      <th>f1</th>\n",
       "      <th>target</th>\n",
       "    </tr>\n",
       "    <tr>\n",
       "      <th>sample_id</th>\n",
       "      <th></th>\n",
       "      <th></th>\n",
       "    </tr>\n",
       "  </thead>\n",
       "  <tbody>\n",
       "    <tr>\n",
       "      <th>s1</th>\n",
       "      <td>-1.000000</td>\n",
       "      <td>0.540302</td>\n",
       "    </tr>\n",
       "    <tr>\n",
       "      <th>s2</th>\n",
       "      <td>-0.995992</td>\n",
       "      <td>0.543671</td>\n",
       "    </tr>\n",
       "    <tr>\n",
       "      <th>s3</th>\n",
       "      <td>-0.991984</td>\n",
       "      <td>0.547030</td>\n",
       "    </tr>\n",
       "    <tr>\n",
       "      <th>s4</th>\n",
       "      <td>-0.987976</td>\n",
       "      <td>0.550381</td>\n",
       "    </tr>\n",
       "    <tr>\n",
       "      <th>s5</th>\n",
       "      <td>-0.983968</td>\n",
       "      <td>0.553723</td>\n",
       "    </tr>\n",
       "    <tr>\n",
       "      <th>...</th>\n",
       "      <td>...</td>\n",
       "      <td>...</td>\n",
       "    </tr>\n",
       "    <tr>\n",
       "      <th>s496</th>\n",
       "      <td>0.983968</td>\n",
       "      <td>0.553723</td>\n",
       "    </tr>\n",
       "    <tr>\n",
       "      <th>s497</th>\n",
       "      <td>0.987976</td>\n",
       "      <td>0.550381</td>\n",
       "    </tr>\n",
       "    <tr>\n",
       "      <th>s498</th>\n",
       "      <td>0.991984</td>\n",
       "      <td>0.547030</td>\n",
       "    </tr>\n",
       "    <tr>\n",
       "      <th>s499</th>\n",
       "      <td>0.995992</td>\n",
       "      <td>0.543671</td>\n",
       "    </tr>\n",
       "    <tr>\n",
       "      <th>s500</th>\n",
       "      <td>1.000000</td>\n",
       "      <td>0.540302</td>\n",
       "    </tr>\n",
       "  </tbody>\n",
       "</table>\n",
       "<p>500 rows × 2 columns</p>\n",
       "</div>"
      ],
      "text/plain": [
       "                 f1    target\n",
       "sample_id                    \n",
       "s1        -1.000000  0.540302\n",
       "s2        -0.995992  0.543671\n",
       "s3        -0.991984  0.547030\n",
       "s4        -0.987976  0.550381\n",
       "s5        -0.983968  0.553723\n",
       "...             ...       ...\n",
       "s496       0.983968  0.553723\n",
       "s497       0.987976  0.550381\n",
       "s498       0.991984  0.547030\n",
       "s499       0.995992  0.543671\n",
       "s500       1.000000  0.540302\n",
       "\n",
       "[500 rows x 2 columns]"
      ]
     },
     "execution_count": 3,
     "metadata": {},
     "output_type": "execute_result"
    }
   ],
   "source": [
    "df"
   ]
  },
  {
   "cell_type": "code",
   "execution_count": 4,
   "id": "575f80df-4fd4-49d4-8bd0-7571c8eb8eda",
   "metadata": {},
   "outputs": [],
   "source": [
    "X = df.iloc[:, 0].values.reshape(-1, 1)\n",
    "y = df.iloc[:, 1].values"
   ]
  },
  {
   "cell_type": "code",
   "execution_count": 5,
   "id": "6a36d1cc-bb3d-4f40-aa1f-f5c59f00aebb",
   "metadata": {},
   "outputs": [
    {
     "name": "stdout",
     "output_type": "stream",
     "text": [
      "Time to generate feat space: 0.00517106 s\n",
      "Projection time: 0.00029397 s\n",
      "Time to get best features on rank : 7.39098e-05 s\n",
      "|---Complete final combination/selection from all ranks: 0.000860929 s\n",
      "Time for SIS: 0.00175595 s\n",
      "Time for l0-norm: 0.00490999 s\n"
     ]
    }
   ],
   "source": [
    "sisso.fit(X,y)"
   ]
  },
  {
   "cell_type": "raw",
   "id": "3f4a0298-a0db-452d-b705-61dda8da1f60",
   "metadata": {},
   "source": [
    "# FEAT_ID     Score                   Feature Expression\n",
    "0             0.949633342126443125    ((feature_0^6) + (feature_0^2))\n",
    "1             0.965078927377545082    (((feature_0^6) - (feature_0^2)) - ((feature_0^6)^2))\n",
    "2             0.965691512493484394    (((feature_0^6) + (feature_0^2)) - ((feature_0^6)^6))\n",
    "3             0.970157217710938657    ((feature_0^2) / ((feature_0^6) + (feature_0^2)))\n",
    "4             0.974936987722888837    (((feature_0^2)^2) + (feature_0^2))\n",
    "5             0.977018129159863302    (((feature_0^6) + (feature_0^2)) + (feature_0^2))\n",
    "6             0.977275408219119068    (((feature_0^6) + (feature_0^2)) - ((feature_0^2)^2))\n",
    "7             0.987874416615539874    (((feature_0^6) + (feature_0^2)) - ((feature_0^6)^2))\n",
    "8             0.993080206807811949    (((feature_0^6) - (feature_0^2)) - ((feature_0^2)^2))\n",
    "9             0.999518202096920105    (feature_0^2)"
   ]
  },
  {
   "cell_type": "markdown",
   "id": "3f0dffbe-26f7-4f73-87ca-e1d7e1a85561",
   "metadata": {},
   "source": [
    "Same result as before"
   ]
  },
  {
   "cell_type": "code",
   "execution_count": null,
   "id": "0ab0d82e-2050-4e33-82b2-f32f00bee499",
   "metadata": {},
   "outputs": [],
   "source": []
  },
  {
   "cell_type": "code",
   "execution_count": 3,
   "id": "83eca295-d8e5-43c2-9c6a-e05a74bfa481",
   "metadata": {},
   "outputs": [],
   "source": [
    "X = np.arange(-10, 10, 0.01)\n",
    "y = 1/((X-2.5)**2 + 1)"
   ]
  },
  {
   "cell_type": "code",
   "execution_count": 15,
   "id": "8d2aabb0-a444-4123-9770-3aacd8a8047f",
   "metadata": {},
   "outputs": [
    {
     "data": {
      "text/latex": [
       "$\\displaystyle \\frac{1}{x^{2} - 5.0 x + 7.25}$"
      ],
      "text/plain": [
       "1/(x**2 - 5.0*x + 7.25)"
      ]
     },
     "execution_count": 15,
     "metadata": {},
     "output_type": "execute_result"
    }
   ],
   "source": [
    "f = symbols('x')\n",
    "eq = 1/((f-2.5)**2 + 1)\n",
    "expand(eq)"
   ]
  },
  {
   "cell_type": "code",
   "execution_count": 18,
   "id": "de0c1f88-89d5-40c1-bc55-e15b6c032724",
   "metadata": {},
   "outputs": [],
   "source": [
    "df = pd.DataFrame({\"sample_id\": [f\"s{i+1}\" for i in range(len(X))], 'x': X})\n",
    "sisso = SISSORegressor(\n",
    "    prop_label = \"target\",\n",
    "    allowed_ops = \"all\",\n",
    "    n_dim = 1,\n",
    "    max_rung = 3,\n",
    "    n_sis_select = 10,\n",
    "    n_residual = 10,\n",
    ")"
   ]
  },
  {
   "cell_type": "code",
   "execution_count": 19,
   "id": "f0192558-e2b8-4f66-90ab-95f2c296270c",
   "metadata": {},
   "outputs": [
    {
     "name": "stdout",
     "output_type": "stream",
     "text": [
      "Time to generate feat space: 1.36143 s\n",
      "Projection time: 0.202474 s\n",
      "Time to get best features on rank : 0.000614882 s\n",
      "|---Complete final combination/selection from all ranks: 0.0034759 s\n",
      "Time for SIS: 0.218456 s\n",
      "Time for l0-norm: 0.00581408 s\n"
     ]
    }
   ],
   "source": [
    "sisso.fit(X.reshape(-1,1),y)"
   ]
  },
  {
   "cell_type": "raw",
   "id": "8cb8a7c4-9e31-4089-b37c-b9e19c493f9a",
   "metadata": {},
   "source": [
    "# c0 + a0 * ((feature_0 / exp(feature_0)) * ((|feature_0|) + feature_0))\n",
    "# Property Label: $target$; Unit of the Property: Unitless\n",
    "# RMSE: 0.0834418482083398; Max AE: 0.301646202519013\n",
    "# Coefficients\n",
    "# Task   a0                      c0\n",
    "# all ,  6.740677465085502e-01,  1.201911240510159e-02, "
   ]
  },
  {
   "cell_type": "raw",
   "id": "9b309627-3d03-4fbe-ac54-0186d668a1d6",
   "metadata": {},
   "source": [
    "max_rung = 4\n",
    "# c0 + a0 * ((((feature_0^2) + feature_0) * feature_0) / (((feature_0^2)^2) + feature_0))\n",
    "# Property Label: $target$; Unit of the Property: Unitless\n",
    "# RMSE: 0.174813153090283; Max AE: 0.632361680088225\n",
    "# Coefficients\n",
    "# Task   a0                      c0\n",
    "# all ,  5.037084980135421e-01,  1.058219489560847e-01, "
   ]
  },
  {
   "cell_type": "code",
   "execution_count": 12,
   "id": "9f6c0294-4aa9-4ccd-b8dc-5d0c8b216f74",
   "metadata": {},
   "outputs": [
    {
     "data": {
      "text/latex": [
       "$\\displaystyle \\frac{1.0 \\left(0.105821948956085 x^{2} + 0.397886549057457 x + 0.105821948956085\\right)}{x^{2} - x + 1}$"
      ],
      "text/plain": [
       "1.0*(0.105821948956085*x**2 + 0.397886549057457*x + 0.105821948956085)/(x**2 - x + 1)"
      ]
     },
     "execution_count": 12,
     "metadata": {},
     "output_type": "execute_result"
    }
   ],
   "source": [
    "\n",
    "c0 = 1.058219489560847e-01\n",
    "a0 = 5.037084980135421e-01\n",
    "# Define symbolic variables\n",
    "feature_0 = symbols('x')\n",
    "\n",
    "# Build the expression\n",
    "numerator = ((feature_0**2) + feature_0) * feature_0\n",
    "denominator = ((feature_0**2)**2) + feature_0\n",
    "expression = c0 + a0 * (numerator / denominator)\n",
    "\n",
    "simplify(expression)"
   ]
  }
 ],
 "metadata": {
  "kernelspec": {
   "display_name": "Python 3 (ipykernel)",
   "language": "python",
   "name": "python3"
  },
  "language_info": {
   "codemirror_mode": {
    "name": "ipython",
    "version": 3
   },
   "file_extension": ".py",
   "mimetype": "text/x-python",
   "name": "python",
   "nbconvert_exporter": "python",
   "pygments_lexer": "ipython3",
   "version": "3.9.23"
  }
 },
 "nbformat": 4,
 "nbformat_minor": 5
}
