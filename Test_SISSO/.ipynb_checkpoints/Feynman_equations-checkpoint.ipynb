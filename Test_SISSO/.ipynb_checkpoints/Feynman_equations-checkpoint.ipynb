{
 "cells": [
  {
   "cell_type": "code",
   "execution_count": 8,
   "id": "9a247cc7-ff1c-4807-93d9-c8b24c3e4de6",
   "metadata": {},
   "outputs": [],
   "source": [
    "import sissopp\n",
    "from sissopp.py_interface import get_fs_solver\n",
    "from sissopp.sklearn import SISSORegressor\n",
    "from sissopp.py_interface import read_csv\n",
    "import json\n",
    "import os\n",
    "import pandas as pd\n",
    "import sympy\n",
    "import numpy as np\n",
    "from matplotlib import pyplot as plt"
   ]
  },
  {
   "cell_type": "code",
   "execution_count": 2,
   "id": "1c79db0a-eee5-4321-9cbc-97a543ca04e8",
   "metadata": {},
   "outputs": [],
   "source": [
    "# Reads the equations\n",
    "df = pd.read_csv('../Test_pysr/FeynmanEquations.csv')"
   ]
  },
  {
   "cell_type": "code",
   "execution_count": 3,
   "id": "1c2ebfc5-7f56-4203-9b98-e5672ac98c6d",
   "metadata": {},
   "outputs": [
    {
     "data": {
      "text/latex": [
       "$\\displaystyle \\frac{\\sqrt{2} e^{- \\frac{\\theta^{2}}{2 \\sigma^{2}}}}{2 \\sqrt{\\pi} \\sigma}$"
      ],
      "text/plain": [
       "sqrt(2)*exp(-theta**2/(2*sigma**2))/(2*sqrt(pi)*sigma)"
      ]
     },
     "execution_count": 3,
     "metadata": {},
     "output_type": "execute_result"
    }
   ],
   "source": [
    "sympy.simplify(df['Formula'][1])"
   ]
  },
  {
   "cell_type": "code",
   "execution_count": 4,
   "id": "da7a0e65-38e1-4544-8e3d-84b0a8c44e76",
   "metadata": {},
   "outputs": [],
   "source": [
    "data = []\n",
    "with open('../Test_pysr/data/I.6.2', 'r') as file:\n",
    "    for line in file:\n",
    "        float_line = [float(x) for x in line.strip().split()]\n",
    "        data.append(float_line)"
   ]
  },
  {
   "cell_type": "code",
   "execution_count": 12,
   "id": "32977980-311c-41bf-9040-90672373f21f",
   "metadata": {},
   "outputs": [],
   "source": [
    "data = np.array(data)\n",
    "# Dataset\n",
    "X = data[:800, :2]\n",
    "theta = X[:,0]\n",
    "sigma = X[:,1]\n",
    "#theta, sigma\n",
    "y = data[:800, 2]"
   ]
  },
  {
   "cell_type": "code",
   "execution_count": 6,
   "id": "88bc0311-e909-4221-960d-35aaf708d6aa",
   "metadata": {},
   "outputs": [],
   "source": [
    "df = pd.DataFrame({\"sample_id\": [f\"s{i+1}\" for i in range(len(X))], 'theta': theta, 'sigma': sigma, 'target': y})\n",
    "df.to_csv(\"/home/paolo/Thesis/Test_SISSO/data/gaussian_data.csv\", index=False)\n",
    "data_file = \"/home/paolo/Thesis/Test_SISSO/data/gaussian_data.csv\"\n",
    "\n",
    "os.environ[\"SISSOPP_TUT_DAT_FILE\"] = data_file"
   ]
  },
  {
   "cell_type": "code",
   "execution_count": 9,
   "id": "bd915856-8a5c-4d89-aef7-ef30999bb960",
   "metadata": {},
   "outputs": [],
   "source": [
    "# Try the fit with the exact functional form\n",
    "gauss_json = {\n",
    "    'data_file': data_file,\n",
    "     'property_key': 'target',\n",
    "     'desc_dim': 2,\n",
    "     'n_sis_select': 10,\n",
    "     'max_rung': 3,\n",
    "     'calc_type': 'regression',\n",
    "     'min_abs_feat_val': 1e-05,\n",
    "     'max_abs_feat_val': 1e8,\n",
    "     'n_residual': 10,\n",
    "     'n_models_store': 1,\n",
    "     'leave_out_frac': 0.0,\n",
    "     'leave_out_inds': [],\n",
    "     'opset': ['add', 'sub', 'mult', 'div', 'cos', 'sin', 'sqrt', 'sq', 'exp']\n",
    "}\n",
    "json.dump(gauss_json, open(\"/home/paolo/Thesis/Test_SISSO/data/gauss.json\", \"w\"), indent=4)"
   ]
  },
  {
   "cell_type": "raw",
   "id": "509033a6-01ed-4317-a0bb-5157040eb7e1",
   "metadata": {},
   "source": [
    "# c0 + a0 * ((sqrt(sigma) - (sigma - theta)) / ((sigma / theta) + (theta^2)))\n",
    "# Property Label: $target$; Unit of the Property: Unitless\n",
    "# RMSE: 0.00478030064480765; Max AE: 0.0245282347588517\n",
    "# Coefficients\n",
    "# Task   a0                      c0\n",
    "# all ,  3.964379895985528e-01,  8.950946541115924e-03, "
   ]
  },
  {
   "cell_type": "code",
   "execution_count": 8,
   "id": "7834da3f-1ef7-42ab-ac76-e56aea399bf6",
   "metadata": {},
   "outputs": [
    {
     "data": {
      "text/latex": [
       "$\\displaystyle \\frac{0.00895094654111592 \\sigma + 0.00895094654111592 \\theta^{3} + 0.396437989598553 \\theta \\left(\\sqrt{\\sigma} - \\sigma + \\theta\\right)}{\\sigma + \\theta^{3}}$"
      ],
      "text/plain": [
       "(0.00895094654111592*sigma + 0.00895094654111592*theta**3 + 0.396437989598553*theta*(sqrt(sigma) - sigma + theta))/(sigma + theta**3)"
      ]
     },
     "execution_count": 8,
     "metadata": {},
     "output_type": "execute_result"
    }
   ],
   "source": [
    "c0 = 8.950946541115924e-03 \n",
    "a0 = 3.964379895985528e-01\n",
    "# Define symbols\n",
    "sigma, theta = sympy.symbols('sigma theta')\n",
    "\n",
    "# Define the expression\n",
    "numerator = sympy.sqrt(sigma) - (sigma - theta)\n",
    "denominator = (sigma / theta) + theta**2\n",
    "expression = c0 + a0 * (numerator / denominator)\n",
    "sympy.simplify(expression)"
   ]
  },
  {
   "cell_type": "raw",
   "id": "2ad8c3e9-e5ff-4010-8a48-db6005237f45",
   "metadata": {},
   "source": [
    "# c0 + a0 * (((sigma / theta) - cos(theta)) * ((sigma / theta) / exp(sigma))) + a1 * (((sigma + theta) * sqrt(theta)) / ((sigma^2) + (theta^2)))\n",
    "# Property Label: $target$; Unit of the Property: Unitless\n",
    "# RMSE: 0.00188579257036801; Max AE: 0.0118749701831756\n",
    "# Coefficients\n",
    "# Task   a0                      a1                      c0\n",
    "# all , -1.064407907413929e-01,  3.804529669252988e-01, -1.284225730688129e-01, "
   ]
  },
  {
   "cell_type": "raw",
   "id": "7b666a9f-38c9-4a4b-a701-c414ed9d1044",
   "metadata": {},
   "source": [
    "# FEAT_ID     Score                   Feature Expression\n",
    "0             0.980467039476989433    (((sigma + theta) * sqrt(theta)) / ((sigma^2) + (theta^2)))\n",
    "1             0.981643583802328079    ((sqrt(sigma) - (sigma - theta)) / ((theta^2) + sigma))\n",
    "2             0.982815451363823311    ((sin(sigma) + sigma) + ((sigma / theta) + (theta / sigma)))\n",
    "3             0.983454636045389408    (((sigma + theta) - sqrt(theta)) / (sqrt(sigma) * sqrt(theta)))\n",
    "4             0.983644038704709067    (((sigma - theta) - sin(theta)) / ((sigma + theta) * theta))\n",
    "5             0.984252648980559974    ((sqrt(sigma) / theta) / exp((sigma / theta)))\n",
    "6             0.98548875911238254     (exp(cos(sigma)) - ((sigma / theta) + (theta / sigma)))\n",
    "7             0.985904760514231815    (((sigma * theta) + theta) / ((sigma + theta)^2))\n",
    "8             0.986574933287462041    (((sigma - theta) - sqrt(theta)) / (cos(sigma) - exp(theta)))\n",
    "9             0.987011511646284756    ((sqrt(sigma) - (sigma - theta)) / ((sigma / theta) + (theta^2)))\n",
    "#-----------------------------------------------------------------------\n",
    "10            0.838532399955864483    (((sigma / theta) / theta) - (cos(sigma)^2))\n",
    "11            0.839706423741149455    (cos((sigma / theta)) + (cos(sigma)^2))\n",
    "12            0.84221154935780318     (((sigma + theta) / (theta^2)) + (sin(sigma) * sqrt(theta)))\n",
    "13            0.842444346376352793    ((sin(sigma) - (sigma + theta)) / ((sigma / theta) - cos(theta)))\n",
    "14            0.847444405407132062    (((sigma * theta) / exp(theta)) - (sin(sigma) + (sigma / theta)))\n",
    "15            0.851073450721063551    (sqrt((theta / sigma)) + (sin(sigma) + (sigma / theta)))\n",
    "16            0.856783802593514277    (((sigma - theta) / (theta^2)) - (cos(sigma)^2))\n",
    "17            0.859951859265772001    (((sigma - theta) / (theta^2)) + sin(sigma))\n",
    "18            0.875615974055778623    (((sigma / theta) - cos(theta)) / (sin(sigma) - (sigma + theta)))\n",
    "19            0.882363449419622192    (((sigma / theta) - cos(theta)) * ((sigma / theta) / exp(sigma)))"
   ]
  },
  {
   "cell_type": "code",
   "execution_count": null,
   "id": "7bc6150c-496a-4025-b4d5-b0c35abeeeff",
   "metadata": {},
   "outputs": [],
   "source": []
  },
  {
   "cell_type": "code",
   "execution_count": 3,
   "id": "2f38359d-2cef-4639-85d6-56992f530d34",
   "metadata": {},
   "outputs": [
    {
     "data": {
      "text/latex": [
       "$\\displaystyle \\frac{G m_{1} m_{2}}{\\left(x_{1} - x_{2}\\right)^{2} + \\left(y_{1} - y_{2}\\right)^{2} + \\left(z_{1} - z_{2}\\right)^{2}}$"
      ],
      "text/plain": [
       "G*m1*m2/((x1 - x2)**2 + (y1 - y2)**2 + (z1 - z2)**2)"
      ]
     },
     "execution_count": 3,
     "metadata": {},
     "output_type": "execute_result"
    }
   ],
   "source": [
    "sympy.simplify(df['Formula'][4])"
   ]
  },
  {
   "cell_type": "code",
   "execution_count": 5,
   "id": "3cb30a47-383a-4a21-8cdc-3da007b16d48",
   "metadata": {},
   "outputs": [],
   "source": [
    "data = []\n",
    "entry = df['Filename'][4]\n",
    "with open(f'../Test_pysr/data/{entry}', 'r') as file:\n",
    "    for line in file:\n",
    "        float_line = [float(x) for x in line.strip().split()]\n",
    "        data.append(float_line)"
   ]
  },
  {
   "cell_type": "code",
   "execution_count": 6,
   "id": "03466663-141d-431c-bd60-5adf70910c24",
   "metadata": {},
   "outputs": [],
   "source": [
    "arr = np.array(data[:800])\n",
    "\n",
    "# Dataset\n",
    "X = arr[:, :9]\n",
    "m1 = X[:,0]\n",
    "m2 = X[:,1]\n",
    "G = X[:,2]\n",
    "x1 = X[:,3]\n",
    "x2 = X[:,4]\n",
    "y1 = X[:,5]\n",
    "y2 = X[:,6]\n",
    "z1 = X[:,7]\n",
    "z2 = X[:,8]\n",
    "#theta, sigma\n",
    "y = arr[:, 9]"
   ]
  },
  {
   "cell_type": "code",
   "execution_count": 9,
   "id": "7ce4b09a-8a0d-433d-8286-7dc583f0c90a",
   "metadata": {},
   "outputs": [],
   "source": [
    "df = pd.DataFrame({\"sample_id\": [f\"s{i+1}\" for i in range(len(X))], 'm1': m1, 'm2': m2, 'G': G, 'x1': x1, 'x2': x2, 'y1': y1, 'y2': y2, 'z1': z1, 'z2': z2})\n",
    "sisso = SISSORegressor(\n",
    "    prop_label = \"target\",\n",
    "    allowed_ops = [\"add\", \"mult\", \"sub\", \"div\", \"sq\"],\n",
    "    n_dim = 9,\n",
    "    max_rung = 3,\n",
    "    n_sis_select = 10,\n",
    "    n_residual = 10,\n",
    ")"
   ]
  },
  {
   "cell_type": "code",
   "execution_count": null,
   "id": "a67ffaa4-bc80-49eb-a549-6463d64c4feb",
   "metadata": {},
   "outputs": [],
   "source": [
    "sisso.fit(X,y)"
   ]
  }
 ],
 "metadata": {
  "kernelspec": {
   "display_name": "Python 3 (ipykernel)",
   "language": "python",
   "name": "python3"
  },
  "language_info": {
   "codemirror_mode": {
    "name": "ipython",
    "version": 3
   },
   "file_extension": ".py",
   "mimetype": "text/x-python",
   "name": "python",
   "nbconvert_exporter": "python",
   "pygments_lexer": "ipython3",
   "version": "3.9.23"
  }
 },
 "nbformat": 4,
 "nbformat_minor": 5
}
