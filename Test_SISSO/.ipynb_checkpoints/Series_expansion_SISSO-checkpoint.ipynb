{
 "cells": [
  {
   "cell_type": "code",
   "execution_count": 26,
   "id": "ff8a764b-6fc1-4b19-b811-cb18182cfe74",
   "metadata": {},
   "outputs": [],
   "source": [
    "import sissopp\n",
    "from sissopp.py_interface import get_fs_solver\n",
    "import json\n",
    "import os\n",
    "from sympy import symbols, simplify, sin\n",
    "import pandas as pd\n",
    "import numpy as np\n",
    "import matplotlib.pyplot as plt"
   ]
  },
  {
   "cell_type": "code",
   "execution_count": 9,
   "id": "4c2f27b7-8d5c-424f-a8fb-a6b11b1b3d30",
   "metadata": {},
   "outputs": [],
   "source": [
    "x = np.linspace(-1, 1, 500)\n",
    "y = np.cos(x)\n",
    "\n",
    "# Save to CSV in a format SISSO++ expects\n",
    "df = pd.DataFrame({\"sample_id\": [f\"s{i+1}\" for i in range(len(x))], 'f1': x, 'target': y})\n",
    "df.to_csv(\"/home/paolo/Thesis/Test_SISSO/data/cosine_data.csv\", index=False)"
   ]
  },
  {
   "cell_type": "code",
   "execution_count": 22,
   "id": "0097691a-094b-4039-8be4-e99dc3818de3",
   "metadata": {},
   "outputs": [],
   "source": [
    "data_file = \"/home/paolo/Thesis/Test_SISSO/data/cosine_data.csv\"\n",
    "\n",
    "os.environ[\"SISSOPP_TUT_DAT_FILE\"] = data_file"
   ]
  },
  {
   "cell_type": "code",
   "execution_count": null,
   "id": "59af70f0-fddb-4a01-a0ad-5526be2c80d1",
   "metadata": {},
   "outputs": [],
   "source": [
    "# Try the fit with the exact functional form\n",
    "cos_json = {\n",
    "    'data_file': data_file,\n",
    "     'property_key': 'target',\n",
    "     'desc_dim': 1,\n",
    "     'n_sis_select': 10,\n",
    "     'max_rung': 2,\n",
    "     'calc_type': 'regression',\n",
    "     'min_abs_feat_val': 1e-05,\n",
    "     'max_abs_feat_val': 1e8,\n",
    "     'n_residual': 10,\n",
    "     'n_models_store': 1,\n",
    "     'leave_out_frac': 0.0,\n",
    "     'leave_out_inds': [],\n",
    "     'opset': ['add', 'sub', 'mult', 'div', 'cos', 'sin', 'sqrt', 'sq']\n",
    "}\n",
    "json.dump(cos_json, open(\"/home/paolo/Thesis/Test_SISSO/data/cos.json\", \"w\"), indent=4)"
   ]
  },
  {
   "cell_type": "raw",
   "id": "a18b003a-06ad-4b67-851e-6fb048741c9f",
   "metadata": {},
   "source": [
    "# c0 + a0 * cos(f1)\n",
    "# Property Label: $target$; Unit of the Property: Unitless\n",
    "# RMSE: 2.1591949172093e-16; Max AE: 3.33066907387547e-16\n",
    "# Coefficients\n",
    "# Task   a0                      c0\n",
    "# all ,  1.000000000000000e+00, -6.540711109930608e-17, \n",
    "# Feature Rung, Units, and Expressions\n",
    "# 0;  1; Unitless;                                         0|cos; cos(f1); $\\left(\\cos{ f1 }\\right)$; cos(f1); cos(newdata$f1); f1;[-1.000000000000000e+00, 1.000000000000000e+00]\n",
    "# Number of Samples Per Task\n",
    "# Task, n_samples               \n",
    "# all , 100"
   ]
  },
  {
   "cell_type": "raw",
   "id": "a13bc2bc-2fff-4ebd-9b92-2231df0241a1",
   "metadata": {},
   "source": [
    "# FEAT_ID     Score                   Feature Expression\n",
    "0             0.705902484214545267    (sin(f1) + (f1^2))\n",
    "1             0.793289172660802344    (sin(f1)^2)\n",
    "2             0.857925969503206431    ((f1^2)^2)\n",
    "3             0.95038014600360865     cos((f1^2))\n",
    "4             0.976459366679758634    (cos(f1) + (f1^2))\n",
    "5             0.976488596773886774    (sin(f1) * f1)\n",
    "6             0.99062125318229588     (f1^2)\n",
    "7             0.995005285798604033    (cos(f1) - (f1^2))\n",
    "8             0.998179985082016441    (sin(f1) / f1)\n",
    "9             1.00000000000000044     cos(f1)"
   ]
  },
  {
   "cell_type": "code",
   "execution_count": 24,
   "id": "2850cddb-8cbd-4058-b212-23bac0e1380b",
   "metadata": {},
   "outputs": [],
   "source": [
    "# Try the fit without the cosine but with the sine fucntion\n",
    "cos_sin_json = {\n",
    "    'data_file': data_file,\n",
    "     'property_key': 'target',\n",
    "     'desc_dim': 1,\n",
    "     'n_sis_select': 10,\n",
    "     'max_rung': 3,\n",
    "     'calc_type': 'regression',\n",
    "     'min_abs_feat_val': 1e-05,\n",
    "     'max_abs_feat_val': 1e8,\n",
    "     'n_residual': 10,\n",
    "     'n_models_store': 1,\n",
    "     'leave_out_frac': 0.0,\n",
    "     'leave_out_inds': [],\n",
    "     'opset': ['add', 'sub', 'mult', 'div', 'sin']\n",
    "}\n",
    "json.dump(cos_sin_json, open(\"/home/paolo/Thesis/Test_SISSO/data/cos_sin.json\", \"w\"), indent=4)"
   ]
  },
  {
   "cell_type": "raw",
   "id": "28a3bd57-7065-448c-a290-8746f599032b",
   "metadata": {},
   "source": [
    "# c0 + a0 * ((sin(f1) + f1) * f1)\n",
    "# Property Label: $target$; Unit of the Property: Unitless\n",
    "# RMSE: 7.44064245890528e-05; Max AE: 0.000262118276139423\n",
    "# Coefficients\n",
    "# Task   a0                      c0\n",
    "# all , -2.497423989462255e-01,  9.999335689277928e-01,"
   ]
  },
  {
   "cell_type": "code",
   "execution_count": 27,
   "id": "533c9368-748a-457c-a884-cde382289fe6",
   "metadata": {},
   "outputs": [
    {
     "data": {
      "text/latex": [
       "$\\displaystyle - 0.249742398946225 x \\left(x + \\sin{\\left(x \\right)}\\right) + 0.999933568927793$"
      ],
      "text/plain": [
       "-0.249742398946225*x*(x + sin(x)) + 0.999933568927793"
      ]
     },
     "execution_count": 27,
     "metadata": {},
     "output_type": "execute_result"
    }
   ],
   "source": [
    "f1 = symbols('x')\n",
    "c0 = 9.999335689277928e-01\n",
    "a0 = -2.497423989462255e-01\n",
    "# Build the expression\n",
    "expr = c0 + a0 * (sin(f1) + f1)*f1\n",
    "\n",
    "# Optionally simplify (optional)\n",
    "simplify(expr)"
   ]
  },
  {
   "cell_type": "markdown",
   "id": "19317bb4-b33d-402a-a728-9f63cada4b4b",
   "metadata": {},
   "source": [
    "Roughly coincides with the Taylor expansion of cosine up to second order."
   ]
  },
  {
   "cell_type": "raw",
   "id": "6749f075-6666-4338-ad83-32e5cf50dc26",
   "metadata": {},
   "source": [
    "# FEAT_ID     Score                   Feature Expression\n",
    "0             0.908940687191483465    ((sin(f1) - f1) * (sin(f1) + f1))\n",
    "1             0.929832263049661267    ((sin(f1) + f1) * sin(f1))\n",
    "2             0.950499051512776583    ((sin(f1) / f1) + (sin(f1) * f1))\n",
    "3             0.953357000778843444    ((sin(f1) - f1) * sin(f1))\n",
    "4             0.976488596773886774    (sin(f1) * f1)\n",
    "5             0.984389220971958245    (f1 / (sin(f1) + f1))\n",
    "6             0.987358543845045844    ((sin(f1) / f1) - (sin(f1) * f1))\n",
    "7             0.988301944696494683    sin((sin(f1) / f1))\n",
    "8             0.998179985082016885    ((sin(f1) - f1) / f1)\n",
    "9             0.999879436413308342    ((sin(f1) + f1) * f1)\n",
    "#-----------------------------------------------------------------------"
   ]
  },
  {
   "cell_type": "code",
   "execution_count": 41,
   "id": "aca1620c-f158-4c1d-9f14-5272d487ebc4",
   "metadata": {},
   "outputs": [],
   "source": [
    "# Try the fit without the cosine but with only +,-,*,/\n",
    "cos_taylor_json = {\n",
    "    'data_file': data_file,\n",
    "     'property_key': 'target',\n",
    "     'desc_dim': 1,\n",
    "     'n_sis_select': 20,\n",
    "     'max_rung': 5,\n",
    "     'calc_type': 'regression',\n",
    "     'min_abs_feat_val': 1e-02,\n",
    "     'max_abs_feat_val': 1e5,\n",
    "     'n_residual': 10,\n",
    "     'n_models_store': 1,\n",
    "     'leave_out_frac': 0.0,\n",
    "     'leave_out_inds': [],\n",
    "     'opset': ['add', 'sub', 'mult', \"sq\"]\n",
    "}\n",
    "json.dump(cos_taylor_json, open(\"/home/paolo/Thesis/Test_SISSO/data/cos_taylor.json\", \"w\"), indent=4)"
   ]
  },
  {
   "cell_type": "code",
   "execution_count": null,
   "id": "2b73a266-b299-4f8d-9538-a71a00b12ef0",
   "metadata": {},
   "outputs": [],
   "source": [
    "# # Try the fit without the cosine but with only +,-,*,/\n",
    "# cos_taylor_json = {\n",
    "#     'data_file': data_file,\n",
    "#      'property_key': 'target',\n",
    "#      'desc_dim': 1,\n",
    "#      'n_sis_select': 20,\n",
    "#      'max_rung': 4,\n",
    "#      'calc_type': 'regression',\n",
    "#      'min_abs_feat_val': 1e-03,\n",
    "#      'max_abs_feat_val': 1e5,\n",
    "#      'n_residual': 10,\n",
    "#      'n_models_store': 1,\n",
    "#      'leave_out_frac': 0.0,\n",
    "#      'leave_out_inds': [],\n",
    "#      'opset': ['add', 'sub', 'mult', \"sq\"]\n",
    "# }\n",
    "# json.dump(cos_taylor_json, open(\"/home/paolo/Thesis/Test_SISSO/data/cos_taylor.json\", \"w\"), indent=4)"
   ]
  },
  {
   "cell_type": "raw",
   "id": "86e43335-6dc0-4802-ab04-9e686c5bac76",
   "metadata": {},
   "source": [
    "json file\n",
    "\n",
    "# # Try the fit without the cosine but with only +,-,*,/\n",
    "# cos_taylor_json = {\n",
    "#     'data_file': data_file,\n",
    "#      'property_key': 'target',\n",
    "#      'desc_dim': 1,\n",
    "#      'n_sis_select': 20,\n",
    "#      'max_rung': 4,\n",
    "#      'calc_type': 'regression',\n",
    "#      'min_abs_feat_val': 1e-03,\n",
    "#      'max_abs_feat_val': 1e5,\n",
    "#      'n_residual': 10,\n",
    "#      'n_models_store': 1,\n",
    "#      'leave_out_frac': 0.0,\n",
    "#      'leave_out_inds': [],\n",
    "#      'opset': ['add', 'sub', 'mult', \"sq\"]\n",
    "# }\n",
    "# json.dump(cos_taylor_json, open(\"/home/paolo/Thesis/Test_SISSO/data/cos_taylor.json\", \"w\"), indent=4)\n",
    "\n",
    "Output\n",
    "\n",
    "# c0 + a0 * (f1^2)\n",
    "# Property Label: $target$; Unit of the Property: Unitless\n",
    "# RMSE: 0.00305680602281354; Max AE: 0.00889869102045415\n",
    "# Coefficients\n",
    "# Task   a0                      c0\n",
    "# all , -4.651279827944478e-01,  9.965315976421334e-01, "
   ]
  },
  {
   "cell_type": "raw",
   "id": "289ea01f-0323-475d-a2dc-2e5c9e933a74",
   "metadata": {},
   "source": [
    "# FEAT_ID     Score                   Feature Expression\n",
    "0             0.899148817996565097    ((((f1^2) + f1)^2) + (((f1^2)^2) + ((f1^2) - f1)))\n",
    "1             0.899148817996566652    ((((f1^2) - f1)^2) + (((f1^2)^2) + ((f1^2) + f1)))\n",
    "2             0.905952814188288658    ((((f1^2) - f1) * ((f1^2) + f1)) + (f1^2))\n",
    "3             0.911649089943332824    ((((f1^2) + f1) * f1) + (((f1^2)^2) * ((f1^2) - f1)))\n",
    "4             0.911649089943333046    ((((f1^2) - f1) * f1) - (((f1^2)^2) * ((f1^2) + f1)))\n",
    "5             0.913393087326596964    ((((f1^2) + f1) + (f1^2)) - (((f1^2) - f1) * f1))\n",
    "6             0.913393087326597186    ((((f1^2) + f1) * f1) + (((f1^2) - f1) + (f1^2)))\n",
    "7             0.91919306369297582     ((((f1^2) + f1) + (f1^2)) + (((f1^2) - f1)^2))\n",
    "8             0.91919306369297582     ((((f1^2) + f1)^2) + (((f1^2) - f1) + (f1^2)))\n",
    "9             0.92481528440609917     ((((f1^2)^2)^2) + (((f1^2)^2) + (f1^2)))\n",
    "10            0.932190195698881952    ((((f1^2)^2)^2) + (f1^2))\n",
    "11            0.942104137067494185    ((((f1^2)^2)^2) - (((f1^2) - f1) * ((f1^2) + f1)))\n",
    "12            0.957221647131683118    ((((f1^2)^2) + (f1^2)) + ((f1^2)^2))\n",
    "13            0.960716082664310522    ((((f1^2) - f1) * ((f1^2) + f1)) - (f1^2))\n",
    "14            0.974936987722888393    ((((f1^2) + f1) * (f1^2)) - (((f1^2) - f1) * f1))\n",
    "15            0.984668460574197879    ((((f1^2)^2)^2) - (((f1^2)^2) + (f1^2)))\n",
    "16            0.987641010717597356    ((((f1^2)^2) + (f1^2)) + (f1^2))\n",
    "17            0.991511246450340167    ((((f1^2)^2) - ((f1^2) + f1)) * (((f1^2)^2) - ((f1^2) - f1)))\n",
    "18            0.996453117831624935    ((((f1^2) - f1) - f1) * (((f1^2) + f1) + f1))\n",
    "19            0.999518202096922104    (f1^2)"
   ]
  },
  {
   "cell_type": "code",
   "execution_count": 18,
   "id": "a169637f-230a-4eb3-ab47-6fc7874270a2",
   "metadata": {},
   "outputs": [
    {
     "data": {
      "text/latex": [
       "$\\displaystyle 0.996531597642133 - 0.465127982794448 x^{2}$"
      ],
      "text/plain": [
       "0.996531597642133 - 0.465127982794448*x**2"
      ]
     },
     "execution_count": 18,
     "metadata": {},
     "output_type": "execute_result"
    }
   ],
   "source": [
    "f1 = symbols('x')\n",
    "c0 = 9.965315976421334e-01\n",
    "a0 = -4.651279827944478e-01\n",
    "# Build the expression\n",
    "expr = c0 + a0 * (f1**2)\n",
    "\n",
    "# Optionally simplify (optional)\n",
    "simplify(expr)"
   ]
  },
  {
   "cell_type": "code",
   "execution_count": null,
   "id": "fa9690b9-6b91-4f56-84da-d7e842884c56",
   "metadata": {},
   "outputs": [],
   "source": []
  },
  {
   "cell_type": "raw",
   "id": "4335f6d7-741e-4854-9523-89401dcf5382",
   "metadata": {},
   "source": [
    "input json file\n",
    "\n",
    "# # Try the fit without the cosine but with only +,-,*,/\n",
    "# cos_taylor_json = {\n",
    "#     'data_file': data_file,\n",
    "#      'property_key': 'target',\n",
    "#      'desc_dim': 1,\n",
    "#      'n_sis_select': 20,\n",
    "#      'max_rung': 5,\n",
    "#      'calc_type': 'regression',\n",
    "#      'min_abs_feat_val': 1e-02,\n",
    "#      'max_abs_feat_val': 1e5,\n",
    "#      'n_residual': 10,\n",
    "#      'n_models_store': 1,\n",
    "#      'leave_out_frac': 0.0,\n",
    "#      'leave_out_inds': [],\n",
    "#      'opset': ['add', 'sub', 'mult', \"sq\"]\n",
    "# }\n",
    "# json.dump(cos_taylor_json, open(\"/home/paolo/Thesis/Test_SISSO/data/cos_taylor.json\", \"w\"), indent=4)\n",
    "\n",
    "# c0 + a0 * (((((f1^2) + f1) + f1) + f1) * ((((f1^2) - f1) - f1) - f1))\n",
    "# Property Label: $target$; Unit of the Property: Unitless\n",
    "# RMSE: 0.00133154848389375; Max AE: 0.00409588532605998\n",
    "# Coefficients\n",
    "# Task   a0                      c0\n",
    "# all ,  5.712779415924340e-02,  1.001420544468147e+00,\n",
    "\n",
    "Output "
   ]
  },
  {
   "cell_type": "code",
   "execution_count": 39,
   "id": "af7639c0-a3e1-405d-97e2-9b8fb426006b",
   "metadata": {},
   "outputs": [],
   "source": [
    "x = np.linspace(-2*np.pi, 2*np.pi, 500)\n",
    "pysr_target = - 0.000759117171754911 * x**6 + 0.0388271704796444 * x**4 - 0.496481051788833 * x**2 + 0.999288569767875\n",
    "sissopp_target = 9.965315976421334e-01 + -4.651279827944478e-01 * (x**2)\n",
    "sissopp_rung5 = 0.0571277941592434 * x**4 - 0.5141501474331906 * x**2 + 1.001420544468147"
   ]
  },
  {
   "cell_type": "code",
   "execution_count": 40,
   "id": "d31739f2-298f-47b6-9b4a-4cd89c6cc03f",
   "metadata": {},
   "outputs": [
    {
     "data": {
      "image/png": "[encoded data removed]",
      "text/plain": [
       "<Figure size 640x480 with 1 Axes>"
      ]
     },
     "metadata": {},
     "output_type": "display_data"
    }
   ],
   "source": [
    "plt.scatter(x, pysr_target, s = 20, label = 'PySR result with niter = 100')\n",
    "plt.scatter(x, sissopp_target, s = 20, label = 'SISSO++ result with max_rung=4')\n",
    "plt.scatter(x, sissopp_rung5, s = 20, label = 'SISSO++ result with max_rung=5')\n",
    "plt.plot(x, np.cos(x), color='r', label = 'Ideal function')\n",
    "plt.xlabel('x')\n",
    "plt.ylabel('cos(x)')\n",
    "plt.ylim([-10, 10])\n",
    "plt.show()"
   ]
  }
 ],
 "metadata": {
  "kernelspec": {
   "display_name": "Python 3 (ipykernel)",
   "language": "python",
   "name": "python3"
  },
  "language_info": {
   "codemirror_mode": {
    "name": "ipython",
    "version": 3
   },
   "file_extension": ".py",
   "mimetype": "text/x-python",
   "name": "python",
   "nbconvert_exporter": "python",
   "pygments_lexer": "ipython3",
   "version": "3.9.23"
  }
 },
 "nbformat": 4,
 "nbformat_minor": 5
}
