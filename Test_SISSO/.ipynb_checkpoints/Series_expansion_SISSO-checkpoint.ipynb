{
 "cells": [
  {
   "cell_type": "code",
   "execution_count": 1,
   "id": "ff8a764b-6fc1-4b19-b811-cb18182cfe74",
   "metadata": {},
   "outputs": [
    {
     "name": "stderr",
     "output_type": "stream",
     "text": [
      "/home/paolo/.conda/envs/sissopp_env/lib/python3.9/site-packages/numpy/_core/getlimits.py:545: UserWarning: Signature b'\\x00\\xd0\\xcc\\xcc\\xcc\\xcc\\xcc\\xcc\\xfb\\xbf\\x00\\x00\\x00\\x00\\x00\\x00' for <class 'numpy.longdouble'> does not match any known type: falling back to type probe function.\n",
      "This warnings indicates broken support for the dtype!\n",
      "  machar = _get_machar(dtype)\n"
     ]
    }
   ],
   "source": [
    "import sissopp\n",
    "from sissopp.py_interface import get_fs_solver\n",
    "import json\n",
    "import os\n",
    "import pandas as pd\n",
    "import numpy as np"
   ]
  },
  {
   "cell_type": "code",
   "execution_count": 2,
   "id": "4c2f27b7-8d5c-424f-a8fb-a6b11b1b3d30",
   "metadata": {},
   "outputs": [],
   "source": [
    "x = np.linspace(-2, 2, 100)\n",
    "y = np.cos(x)\n",
    "\n",
    "# Save to CSV in a format SISSO++ expects\n",
    "df = pd.DataFrame({\"sample_id\": [f\"s{i+1}\" for i in range(len(x))], 'f1': x, 'target': y})\n",
    "df.to_csv(\"/home/paolo/Thesis/Test_SISSO/data/cosine_data.csv\", index=False)"
   ]
  },
  {
   "cell_type": "code",
   "execution_count": 3,
   "id": "0097691a-094b-4039-8be4-e99dc3818de3",
   "metadata": {},
   "outputs": [],
   "source": [
    "data_file = \"/home/paolo/Thesis/Test_SISSO/data/cosine_data.csv\"\n",
    "\n",
    "os.environ[\"SISSOPP_TUT_DAT_FILE\"] = data_file"
   ]
  },
  {
   "cell_type": "code",
   "execution_count": 5,
   "id": "59af70f0-fddb-4a01-a0ad-5526be2c80d1",
   "metadata": {},
   "outputs": [],
   "source": [
    "# Try the fit with the exact functional form\n",
    "cos_json = {\n",
    "    'data_file': data_file,\n",
    "     'property_key': 'target',\n",
    "     'desc_dim': 1,\n",
    "     'n_sis_select': 10,\n",
    "     'max_rung': 2,\n",
    "     'calc_type': 'regression',\n",
    "     'min_abs_feat_val': 1e-05,\n",
    "     'max_abs_feat_val': 1e8,\n",
    "     'n_residual': 10,\n",
    "     'n_models_store': 1,\n",
    "     'leave_out_frac': 0.0,\n",
    "     'leave_out_inds': [],\n",
    "     'opset': ['add', 'sub', 'mult', 'div', 'cos', 'sin', 'sqrt', 'sq']\n",
    "}\n",
    "json.dump(cos_json, open(\"/home/paolo/Thesis/Test_SISSO/data/cos.json\", \"w\"), indent=4)"
   ]
  },
  {
   "cell_type": "raw",
   "id": "a18b003a-06ad-4b67-851e-6fb048741c9f",
   "metadata": {},
   "source": [
    "# c0 + a0 * cos(f1)\n",
    "# Property Label: $target$; Unit of the Property: Unitless\n",
    "# RMSE: 2.1591949172093e-16; Max AE: 3.33066907387547e-16\n",
    "# Coefficients\n",
    "# Task   a0                      c0\n",
    "# all ,  1.000000000000000e+00, -6.540711109930608e-17, \n",
    "# Feature Rung, Units, and Expressions\n",
    "# 0;  1; Unitless;                                         0|cos; cos(f1); $\\left(\\cos{ f1 }\\right)$; cos(f1); cos(newdata$f1); f1;[-1.000000000000000e+00, 1.000000000000000e+00]\n",
    "# Number of Samples Per Task\n",
    "# Task, n_samples               \n",
    "# all , 100"
   ]
  },
  {
   "cell_type": "code",
   "execution_count": 6,
   "id": "2850cddb-8cbd-4058-b212-23bac0e1380b",
   "metadata": {},
   "outputs": [],
   "source": [
    "# Try the fit without the cosine but with the sine fucntion\n",
    "cos_sin_json = {\n",
    "    'data_file': data_file,\n",
    "     'property_key': 'target',\n",
    "     'desc_dim': 1,\n",
    "     'n_sis_select': 10,\n",
    "     'max_rung': 2,\n",
    "     'calc_type': 'regression',\n",
    "     'min_abs_feat_val': 1e-05,\n",
    "     'max_abs_feat_val': 1e8,\n",
    "     'n_residual': 10,\n",
    "     'n_models_store': 1,\n",
    "     'leave_out_frac': 0.0,\n",
    "     'leave_out_inds': [],\n",
    "     'opset': ['add', 'sub', 'mult', 'div', 'sin', 'sqrt', 'sq']\n",
    "}\n",
    "json.dump(cos_sin_json, open(\"/home/paolo/Thesis/Test_SISSO/data/cos_sin.json\", \"w\"), indent=4)"
   ]
  },
  {
   "cell_type": "code",
   "execution_count": null,
   "id": "f25f7a49-b641-4fad-b4e3-384c3a5a7720",
   "metadata": {},
   "outputs": [],
   "source": []
  }
 ],
 "metadata": {
  "kernelspec": {
   "display_name": "Python 3 (ipykernel)",
   "language": "python",
   "name": "python3"
  },
  "language_info": {
   "codemirror_mode": {
    "name": "ipython",
    "version": 3
   },
   "file_extension": ".py",
   "mimetype": "text/x-python",
   "name": "python",
   "nbconvert_exporter": "python",
   "pygments_lexer": "ipython3",
   "version": "3.9.23"
  }
 },
 "nbformat": 4,
 "nbformat_minor": 5
}
