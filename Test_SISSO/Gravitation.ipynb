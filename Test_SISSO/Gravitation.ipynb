{
 "cells": [
  {
   "cell_type": "code",
   "execution_count": 1,
   "id": "aba81fbc-a312-4287-9b56-efafe8865824",
   "metadata": {},
   "outputs": [],
   "source": [
    "import sissopp\n",
    "from sissopp.py_interface import get_fs_solver\n",
    "from sissopp.sklearn import SISSORegressor\n",
    "from sissopp.py_interface import read_csv\n",
    "import json\n",
    "import os\n",
    "import pandas as pd\n",
    "import sympy\n",
    "import numpy as np\n",
    "from matplotlib import pyplot as plt"
   ]
  },
  {
   "cell_type": "code",
   "execution_count": 2,
   "id": "15f799ec-bddf-4caa-b507-89efeaa0709a",
   "metadata": {},
   "outputs": [],
   "source": [
    "# Reads the equations\n",
    "df = pd.read_csv('../Test_pysr/FeynmanEquations.csv')"
   ]
  },
  {
   "cell_type": "code",
   "execution_count": 3,
   "id": "3c4b6e67-1f70-4346-95d9-ade251879372",
   "metadata": {},
   "outputs": [
    {
     "data": {
      "text/latex": [
       "$\\displaystyle \\frac{G m_{1} m_{2}}{\\left(x_{1} - x_{2}\\right)^{2} + \\left(y_{1} - y_{2}\\right)^{2} + \\left(z_{1} - z_{2}\\right)^{2}}$"
      ],
      "text/plain": [
       "G*m1*m2/((x1 - x2)**2 + (y1 - y2)**2 + (z1 - z2)**2)"
      ]
     },
     "execution_count": 3,
     "metadata": {},
     "output_type": "execute_result"
    }
   ],
   "source": [
    "sympy.simplify(df['Formula'][4])"
   ]
  },
  {
   "cell_type": "code",
   "execution_count": 4,
   "id": "a41be3f5-db50-4494-bc7a-549af7819e6f",
   "metadata": {},
   "outputs": [],
   "source": [
    "data = []\n",
    "entry = df['Filename'][4]\n",
    "with open(f'../Test_pysr/data/{entry}', 'r') as file:\n",
    "    for line in file:\n",
    "        float_line = [float(x) for x in line.strip().split()]\n",
    "        data.append(float_line)"
   ]
  },
  {
   "cell_type": "code",
   "execution_count": 5,
   "id": "4c03698e-21d2-48b5-86aa-3e995434af47",
   "metadata": {},
   "outputs": [],
   "source": [
    "arr = np.array(data[:800])\n",
    "\n",
    "# Dataset\n",
    "X = arr[:, :9]\n",
    "m1 = X[:,0]\n",
    "m2 = X[:,1]\n",
    "G = X[:,2]\n",
    "x1 = X[:,3]\n",
    "x2 = X[:,4]\n",
    "y1 = X[:,5]\n",
    "y2 = X[:,6]\n",
    "z1 = X[:,7]\n",
    "z2 = X[:,8]\n",
    "#theta, sigma\n",
    "y = arr[:, 9]"
   ]
  },
  {
   "cell_type": "code",
   "execution_count": 6,
   "id": "48728912-fa8c-46ab-a8a4-138e13010ab7",
   "metadata": {},
   "outputs": [],
   "source": [
    "# Save to CSV in a format SISSO++ expects\n",
    "df = pd.DataFrame({\"sample_id\": [f\"s{i+1}\" for i in range(len(X))], 'm1': m1, 'm2': m2, 'G': G, 'x1': x1, 'x2': x2, 'y1': y1, 'y2': y2, 'z1': z1, 'z2': z2, 'target': y})\n",
    "df.to_csv(\"/home/paolo/Thesis/Test_SISSO/data/grav_data.csv\", index=False)\n",
    "data_file = \"/home/paolo/Thesis/Test_SISSO/data/grav_data.csv\"\n",
    "\n",
    "os.environ[\"SISSOPP_TUT_DAT_FILE\"] = data_file"
   ]
  },
  {
   "cell_type": "code",
   "execution_count": 7,
   "id": "4c321b73-6b64-4433-a98b-9448a0f58ce1",
   "metadata": {},
   "outputs": [],
   "source": [
    "grav_json = {\n",
    "    'data_file': data_file,\n",
    "     'property_key': 'target',\n",
    "     'desc_dim': 9,\n",
    "     'n_sis_select': 10,\n",
    "     'max_rung': 2,\n",
    "     'calc_type': 'regression',\n",
    "     'min_abs_feat_val': 1e-02,\n",
    "     'max_abs_feat_val': 1e5,\n",
    "     'n_residual': 10,\n",
    "     'n_models_store': 1,\n",
    "     'leave_out_frac': 0.0,\n",
    "     'leave_out_inds': [],\n",
    "     'opset': \"all\"\n",
    "}\n",
    "json.dump(grav_json, open(\"/home/paolo/Thesis/Test_SISSO/data/grav.json\", \"w\"), indent=4)"
   ]
  },
  {
   "cell_type": "code",
   "execution_count": 8,
   "id": "c5b41e21-85ed-41c9-9e79-1e30056134ff",
   "metadata": {},
   "outputs": [],
   "source": [
    "# grav_json = {\n",
    "#     'data_file': data_file,\n",
    "#      'property_key': 'target',\n",
    "#      'desc_dim': 1,\n",
    "#      'n_sis_select': 10,\n",
    "#      'max_rung': 2,\n",
    "#      'calc_type': 'regression',\n",
    "#      'min_abs_feat_val': 1e-05,\n",
    "#      'max_abs_feat_val': 1e8,\n",
    "#      'n_residual': 10,\n",
    "#      'n_models_store': 1,\n",
    "#      'leave_out_frac': 0.0,\n",
    "#      'leave_out_inds': [],\n",
    "#      'opset': \"all\"\n",
    "# }\n",
    "# json.dump(grav_json, open(\"/home/paolo/Thesis/Test_SISSO/data/grav.json\", \"w\"), indent=4)"
   ]
  }
 ],
 "metadata": {
  "kernelspec": {
   "display_name": "Python 3 (ipykernel)",
   "language": "python",
   "name": "python3"
  },
  "language_info": {
   "codemirror_mode": {
    "name": "ipython",
    "version": 3
   },
   "file_extension": ".py",
   "mimetype": "text/x-python",
   "name": "python",
   "nbconvert_exporter": "python",
   "pygments_lexer": "ipython3",
   "version": "3.12.11"
  }
 },
 "nbformat": 4,
 "nbformat_minor": 5
}
